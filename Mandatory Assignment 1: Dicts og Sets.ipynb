{
 "cells": [
  {
   "cell_type": "markdown",
   "metadata": {},
   "source": [
    "# Assignments:\n",
    "\n",
    "Model an organisation of employees, management and board of directors in 3 sets.\n",
    "Board of directors: Benny, Hans, Tine, Mille, Torben, Troels, Søren\n",
    "\n",
    "Management: Tine, Trunte, Rane\n",
    "\n",
    "Employees: Niels, Anna, Tine, Ole, Trunte, Bent, Rane, Allan, Stine, Claus, James, Lars\n",
    "\n",
    "- who in the board of directors is not an employee?\n",
    "- who in the board of directors is also an employee?\n",
    "- how many of the management is also member of the board?\n",
    "- All members of the managent also an employee\n",
    "- All members of the management also in the board?\n",
    "- Who is an employee, member of the management, and a member of the board?\n",
    "- Who of the employee is neither a memeber or the board or management?"
   ]
  },
  {
   "cell_type": "code",
   "execution_count": 35,
   "metadata": {},
   "outputs": [
    {
     "name": "stdout",
     "output_type": "stream",
     "text": [
      "Directors who is not an employee:  {'Torben', 'Hans', 'Troels', 'Benny', 'Mille', 'Søren'}\n",
      "Directors who is an employee  {'Tine'}\n",
      "Number of manegers who is a director:  1\n",
      "Is members also an employee:  True\n",
      "Is members also an director:  False\n",
      "Employee who is everything:  {'Tine'}\n",
      "Employee who is not everything:  {'Lars', 'Allan', 'Niels', 'Ole', 'Bent', 'Claus', 'James', 'Anna', 'Stine'}\n"
     ]
    }
   ],
   "source": [
    "Board_of_directors = {\"Benny\", \"Hans\", \"Tine\", \"Mille\", \"Torben\", \"Troels\", \"Søren\"}\n",
    "\n",
    "Management = {\"Tine\", \"Trunte\", \"Rane\"}\n",
    "\n",
    "Employees = {\"Niels\", \"Anna\", \"Tine\", \"Ole\", \"Trunte\", \"Bent\", \"Rane\", \"Allan\", \"Stine\", \"Claus\", \"James\", \"Lars\"}\n",
    "\n",
    "directors_not_emp = Board_of_directors.difference(Employees)\n",
    "print(\"Directors who is not an employee: \",  directors_not_emp)\n",
    "\n",
    "directors_is_emp = Board_of_directors.intersection(Employees)\n",
    "print(\"Directors who is an employee \", directors_is_emp)\n",
    "\n",
    "\n",
    "maneger_is_director = Management.intersection(Board_of_directors)\n",
    "manegerns_is_board = len(maneger_is_director)\n",
    "print(\"Number of manegers who is a director: \", manegerns_is_board)\n",
    "\n",
    "is_members_also_employee = Management.issubset(Employees)\n",
    "print(\"Is members also an employee: \", is_members_also_employee)\n",
    "\n",
    "is_members_also_board = Management.issubset(Board_of_directors)\n",
    "print(\"Is members also an director: \", is_members_also_board)\n",
    "\n",
    "employee_who_is_everything = Employees.intersection(Board_of_directors, Management)\n",
    "print(\"Employee who is everything: \",employee_who_is_everything)\n",
    "\n",
    "\n",
    "employee_who_is_not_everything = Employees.difference(Management, Board_of_directors)\n",
    "print(\"Employee who is not everything: \", employee_who_is_not_everything)"
   ]
  },
  {
   "cell_type": "markdown",
   "metadata": {},
   "source": [
    "# Create a list of tuples from the folowing datastructure\n",
    "- {‘a’: ‘Alpha’, ‘b’ : ‘Beta’, ‘g’: ‘Gamma’}"
   ]
  },
  {
   "cell_type": "code",
   "execution_count": 36,
   "metadata": {},
   "outputs": [
    {
     "name": "stdout",
     "output_type": "stream",
     "text": [
      "[('a', 'Alpha'), ('b', 'Beta'), ('g', 'Gamma')]\n"
     ]
    }
   ],
   "source": [
    "list_of_tuples = [('a','Alpha'),('b','Beta'),('g','Gamma')]\n",
    "print(list_of_tuples)\n",
    "\n"
   ]
  },
  {
   "cell_type": "markdown",
   "metadata": {},
   "source": [
    "# From these 2 sets:\n",
    "{'a', 'e', 'i', 'o', 'u', 'y'}\n",
    "\n",
    "{'a', 'e', 'i', 'o', 'u', 'y', 'æ' ,'ø', 'å'}\n",
    "\n",
    " \n",
    "\n",
    "# Create a:\n",
    "\n",
    "- Union\n",
    "- Symmetric Difference\n",
    "- Difference\n",
    "- disjoint\n",
    "\n",
    "\n",
    " \n",
    "\n",
    " \n",
    "\n",
    " \n",
    "\n",
    " \n",
    "\n",
    " \n",
    "\n",
    " \n",
    "\n",
    " \n",
    "\n",
    " \n",
    "\n"
   ]
  },
  {
   "cell_type": "code",
   "execution_count": 69,
   "metadata": {},
   "outputs": [
    {
     "name": "stdout",
     "output_type": "stream",
     "text": [
      "Union:  {'y', 'e', 'ø', 'å', 'æ', 'o', 'i', 'a', 'u', 'q'}\n",
      "Union operator:  {'ø', 'å', 'æ', 'o', 'i', 'a', 'y', 'e', 'u', 'q'}\n",
      "Symmetric difference:  {'ø', 'å', 'æ', 'q'}\n",
      "Symmetric difference operator {'ø', 'å', 'æ', 'q'}\n",
      "Difference:  {'q'}\n",
      "difference operator:  {'q'}\n",
      "Disjoint:  False\n",
      "Disjoint operator:  {'o', 'i', 'a', 'y', 'e', 'u'}\n"
     ]
    }
   ],
   "source": [
    "set1 = {'a', 'e', 'i', 'o', 'u', 'y', 'q'}\n",
    "\n",
    "set2 = {'a', 'e', 'i', 'o', 'u', 'y', 'æ' ,'ø', 'å'}\n",
    "\n",
    "set3 = set1.union(set2)\n",
    "print(\"Union: \",set3)\n",
    "print(\"Union operator: \",set2|set1)\n",
    "\n",
    "set3 = set1.symmetric_difference(set2)\n",
    "print(\"Symmetric difference: \",set3)\n",
    "print(\"Symmetric difference operator\", set1^set2)\n",
    "\n",
    "set3 = set1.difference(set2)\n",
    "print(\"Difference: \", set3)\n",
    "print(\"difference operator: \", set1 - set2)\n",
    "\n",
    "set3 = set1.isdisjoint(set2)\n",
    "print(\"Disjoint: \", set3)\n",
    "set3 = set1 & set2\n",
    "print(\"Disjoint operator: \", set3)"
   ]
  },
  {
   "cell_type": "markdown",
   "metadata": {},
   "source": [
    "# Date Decoder.\n",
    "A date of the form 8-MAR-85 includes the name of the month, which must be translated to a number.\n",
    "\n",
    "Create a dict suitable for decoding month names to numbers.\n",
    "\n",
    "Create a function which uses string operations to split the date into 3 items using the \"-\" character.\n",
    "\n",
    "Translate the month, correct the year to include all of the digits.\n",
    "\n",
    " \n",
    "\n",
    "The function will accept a date in the \"dd-MMM-yy\" format and respond with a tuple of ( y , m , d )."
   ]
  },
  {
   "cell_type": "code",
   "execution_count": 10,
   "metadata": {},
   "outputs": [
    {
     "name": "stdout",
     "output_type": "stream",
     "text": [
      "(1985, 3, 8)\n"
     ]
    }
   ],
   "source": [
    "month_date = {\n",
    "    \"JAN\": \"01\",\n",
    "    \"FEB\": \"02\",\n",
    "    \"MAR\": \"03\",\n",
    "    \"APR\": \"04\",\n",
    "    \"MAY\": \"05\",\n",
    "    \"JUN\": \"06\",\n",
    "    \"JUL\": \"07\",\n",
    "    \"AUG\": \"08\",\n",
    "    \"SEP\": \"09\",\n",
    "    \"OCT\": \"10\",\n",
    "    \"NOV\": \"11\",\n",
    "    \"DEC\": \"12\"\n",
    "}\n",
    "\n",
    "def translate_date(date_str):\n",
    "   \n",
    "    date_parts = date_str.split('-')\n",
    "\n",
    "    \n",
    "    day = date_parts[0]\n",
    "    month = month_date[date_parts[1].upper()]\n",
    "    \n",
    "\n",
    "    year = date_parts[2]\n",
    "    if int(year) < 50:\n",
    "        year = \"20\" + year\n",
    "    else:\n",
    "        year = \"19\" + year\n",
    "\n",
    "    return (int(year), int(month), int(day))\n",
    "\n",
    "\n",
    "date_str = \"8-MAR-85\"\n",
    "result = translate_date(date_str)\n",
    "print(result)"
   ]
  }
 ],
 "metadata": {
  "kernelspec": {
   "display_name": "Python 3",
   "language": "python",
   "name": "python3"
  },
  "language_info": {
   "codemirror_mode": {
    "name": "ipython",
    "version": 3
   },
   "file_extension": ".py",
   "mimetype": "text/x-python",
   "name": "python",
   "nbconvert_exporter": "python",
   "pygments_lexer": "ipython3",
   "version": "3.11.4"
  },
  "orig_nbformat": 4
 },
 "nbformat": 4,
 "nbformat_minor": 2
}
